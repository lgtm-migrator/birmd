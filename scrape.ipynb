{
 "cells": [
  {
   "cell_type": "code",
   "execution_count": 1,
   "id": "stock-morris",
   "metadata": {
    "execution": {
     "iopub.execute_input": "2021-03-24T15:11:37.413376Z",
     "iopub.status.busy": "2021-03-24T15:11:37.413150Z",
     "iopub.status.idle": "2021-03-24T15:11:37.649729Z",
     "shell.execute_reply": "2021-03-24T15:11:37.648568Z",
     "shell.execute_reply.started": "2021-03-24T15:11:37.413318Z"
    }
   },
   "outputs": [],
   "source": [
    "import time\n",
    "\n",
    "from bs4 import BeautifulSoup\n",
    "from selenium import webdriver"
   ]
  },
  {
   "cell_type": "code",
   "execution_count": 2,
   "id": "asian-munich",
   "metadata": {
    "execution": {
     "iopub.execute_input": "2021-03-24T15:11:37.651311Z",
     "iopub.status.busy": "2021-03-24T15:11:37.651082Z",
     "iopub.status.idle": "2021-03-24T15:11:39.788902Z",
     "shell.execute_reply": "2021-03-24T15:11:39.787909Z",
     "shell.execute_reply.started": "2021-03-24T15:11:37.651284Z"
    }
   },
   "outputs": [],
   "source": [
    "driver = webdriver.Chrome()\n",
    "driver.set_page_load_timeout(40)"
   ]
  },
  {
   "cell_type": "code",
   "execution_count": 3,
   "id": "worthy-tobago",
   "metadata": {
    "execution": {
     "iopub.execute_input": "2021-03-24T15:11:39.790165Z",
     "iopub.status.busy": "2021-03-24T15:11:39.789947Z",
     "iopub.status.idle": "2021-03-24T15:11:46.073032Z",
     "shell.execute_reply": "2021-03-24T15:11:46.071879Z",
     "shell.execute_reply.started": "2021-03-24T15:11:39.790137Z"
    }
   },
   "outputs": [],
   "source": [
    "link = \"https://en.wikipedia.org/wiki/List_of_birds_by_common_name\"\n",
    "\n",
    "driver.get(link)\n",
    "time.sleep(1)"
   ]
  },
  {
   "cell_type": "code",
   "execution_count": 4,
   "id": "early-junction",
   "metadata": {
    "execution": {
     "iopub.execute_input": "2021-03-24T15:11:46.074645Z",
     "iopub.status.busy": "2021-03-24T15:11:46.074348Z",
     "iopub.status.idle": "2021-03-24T15:11:47.036067Z",
     "shell.execute_reply": "2021-03-24T15:11:47.035301Z",
     "shell.execute_reply.started": "2021-03-24T15:11:46.074599Z"
    }
   },
   "outputs": [],
   "source": [
    "url_soup = BeautifulSoup(driver.page_source, \"lxml\")"
   ]
  },
  {
   "cell_type": "code",
   "execution_count": 5,
   "id": "divine-breed",
   "metadata": {
    "execution": {
     "iopub.execute_input": "2021-03-24T15:11:47.037122Z",
     "iopub.status.busy": "2021-03-24T15:11:47.036944Z",
     "iopub.status.idle": "2021-03-24T15:11:47.309545Z",
     "shell.execute_reply": "2021-03-24T15:11:47.307943Z",
     "shell.execute_reply.started": "2021-03-24T15:11:47.037100Z"
    }
   },
   "outputs": [
    {
     "data": {
      "text/plain": [
       "24"
      ]
     },
     "execution_count": 5,
     "metadata": {},
     "output_type": "execute_result"
    }
   ],
   "source": [
    "# For getting names starting from all alphabets except Q and X\n",
    "alphabet_divs = url_soup.select(\".div-col\")\n",
    "\n",
    "len(alphabet_divs)"
   ]
  },
  {
   "cell_type": "code",
   "execution_count": 6,
   "id": "exciting-haven",
   "metadata": {
    "execution": {
     "iopub.execute_input": "2021-03-24T15:11:47.310878Z",
     "iopub.status.busy": "2021-03-24T15:11:47.310634Z",
     "iopub.status.idle": "2021-03-24T15:11:48.158910Z",
     "shell.execute_reply": "2021-03-24T15:11:48.157914Z",
     "shell.execute_reply.started": "2021-03-24T15:11:47.310844Z"
    }
   },
   "outputs": [
    {
     "name": "stdout",
     "output_type": "stream",
     "text": [
      "10969\n"
     ]
    }
   ],
   "source": [
    "birmd_names = []\n",
    "\n",
    "for i in range(len(alphabet_divs)):\n",
    "    curr_div = alphabet_divs[i]\n",
    "    curr_names = [tag.text for tag in curr_div.find_all(\"a\")]\n",
    "    birmd_names += curr_names\n",
    "\n",
    "print(len(birmd_names))"
   ]
  },
  {
   "cell_type": "code",
   "execution_count": 7,
   "id": "pretty-engineering",
   "metadata": {
    "execution": {
     "iopub.execute_input": "2021-03-24T15:11:48.161449Z",
     "iopub.status.busy": "2021-03-24T15:11:48.161160Z",
     "iopub.status.idle": "2021-03-24T15:11:48.581301Z",
     "shell.execute_reply": "2021-03-24T15:11:48.580075Z",
     "shell.execute_reply.started": "2021-03-24T15:11:48.161418Z"
    }
   },
   "outputs": [
    {
     "name": "stdout",
     "output_type": "stream",
     "text": [
      "10976\n"
     ]
    }
   ],
   "source": [
    "# For getting names starting with Q and X\n",
    "\n",
    "headings = url_soup.select(\"h2 span.mw-headline\")\n",
    "qx_links = [\n",
    "    heading.parent.next_sibling.next_sibling\n",
    "    for heading in headings\n",
    "    if heading.text == \"Q\" or heading.text == \"X\"\n",
    "]\n",
    "\n",
    "\n",
    "for i in range(len(qx_links)):\n",
    "    curr_link = qx_links[i]\n",
    "    curr_names = [tag.text for tag in curr_link.find_all(\"a\")]\n",
    "    birmd_names += curr_names\n",
    "\n",
    "print(len(birmd_names))"
   ]
  },
  {
   "cell_type": "code",
   "execution_count": 8,
   "id": "artistic-theta",
   "metadata": {
    "execution": {
     "iopub.execute_input": "2021-03-24T15:11:48.582931Z",
     "iopub.status.busy": "2021-03-24T15:11:48.582653Z",
     "iopub.status.idle": "2021-03-24T15:11:48.590202Z",
     "shell.execute_reply": "2021-03-24T15:11:48.589405Z",
     "shell.execute_reply.started": "2021-03-24T15:11:48.582903Z"
    }
   },
   "outputs": [
    {
     "name": "stdout",
     "output_type": "stream",
     "text": [
      "10976\n"
     ]
    }
   ],
   "source": [
    "birmd_names = [birmd_name.lower() for birmd_name in birmd_names]\n",
    "birmd_names.sort()\n",
    "print(len(birmd_names))"
   ]
  },
  {
   "cell_type": "code",
   "execution_count": 9,
   "id": "sustained-terror",
   "metadata": {
    "execution": {
     "iopub.execute_input": "2021-03-24T15:11:48.592030Z",
     "iopub.status.busy": "2021-03-24T15:11:48.591421Z",
     "iopub.status.idle": "2021-03-24T15:11:48.711274Z",
     "shell.execute_reply": "2021-03-24T15:11:48.709935Z",
     "shell.execute_reply.started": "2021-03-24T15:11:48.591955Z"
    }
   },
   "outputs": [],
   "source": [
    "with open(\"birmds.txt\", \"w+\") as f:\n",
    "    for birmd in birmd_names:\n",
    "        f.write(birmd)\n",
    "        f.write(\"\\n\")"
   ]
  },
  {
   "cell_type": "code",
   "execution_count": null,
   "id": "decimal-preparation",
   "metadata": {},
   "outputs": [],
   "source": []
  }
 ],
 "metadata": {
  "kernelspec": {
   "display_name": "Python 3",
   "language": "python",
   "name": "python3"
  },
  "language_info": {
   "codemirror_mode": {
    "name": "ipython",
    "version": 3
   },
   "file_extension": ".py",
   "mimetype": "text/x-python",
   "name": "python",
   "nbconvert_exporter": "python",
   "pygments_lexer": "ipython3",
   "version": "3.8.5"
  }
 },
 "nbformat": 4,
 "nbformat_minor": 5
}
